{
 "cells": [
  {
   "cell_type": "code",
   "execution_count": 39,
   "metadata": {},
   "outputs": [
    {
     "name": "stderr",
     "output_type": "stream",
     "text": [
      "Downloading https://raw.githubusercontent.com/stanfordnlp/stanza-resources/main/resources_1.6.0.json: 367kB [00:00, 13.6MB/s]                    \n",
      "2023-11-20 23:26:05 INFO: Downloading default packages for language: en (English) ...\n",
      "2023-11-20 23:26:08 INFO: File exists: C:\\Users\\soham\\stanza_resources\\en\\default.zip\n",
      "2023-11-20 23:26:20 INFO: Finished downloading models and saved to C:\\Users\\soham\\stanza_resources.\n",
      "2023-11-20 23:26:20 INFO: Checking for updates to resources.json in case models have been updated.  Note: this behavior can be turned off with download_method=None or download_method=DownloadMethod.REUSE_RESOURCES\n",
      "Downloading https://raw.githubusercontent.com/stanfordnlp/stanza-resources/main/resources_1.6.0.json: 367kB [00:00, 14.1MB/s]                    \n",
      "2023-11-20 23:26:23 INFO: Loading these models for language: en (English):\n",
      "======================================\n",
      "| Processor    | Package             |\n",
      "--------------------------------------\n",
      "| tokenize     | combined            |\n",
      "| pos          | combined_charlm     |\n",
      "| lemma        | combined_nocharlm   |\n",
      "| constituency | ptb3-revised_charlm |\n",
      "| depparse     | combined_charlm     |\n",
      "| sentiment    | sstplus             |\n",
      "| ner          | ontonotes_charlm    |\n",
      "======================================\n",
      "\n",
      "2023-11-20 23:26:23 INFO: Using device: cpu\n",
      "2023-11-20 23:26:23 INFO: Loading: tokenize\n",
      "2023-11-20 23:26:23 INFO: Loading: pos\n",
      "2023-11-20 23:26:24 INFO: Loading: lemma\n",
      "2023-11-20 23:26:24 INFO: Loading: constituency\n",
      "2023-11-20 23:26:26 INFO: Loading: depparse\n",
      "2023-11-20 23:26:26 INFO: Loading: sentiment\n",
      "2023-11-20 23:26:27 INFO: Loading: ner\n",
      "2023-11-20 23:26:28 INFO: Done loading processors!\n"
     ]
    },
    {
     "name": "stdout",
     "output_type": "stream",
     "text": [
      "The sentence is 'Lucy plays with friends' and its parse tree is :\n",
      "(ROOT (S (NP (NNP Lucy)) (VP (VBZ plays) (PP (IN with) (NP (NNS friends))))))\n",
      "The sentence is 'This movie is careless and unfocused' and its parse tree is :\n",
      "(ROOT (S (NP (DT This) (NN movie)) (VP (VBZ is) (ADJP (JJ careless) (CC and) (JJ unfocused)))))\n",
      "The sentence is 'She buys a gift with gold' and its parse tree is :\n",
      "(ROOT (S (NP (PRP She)) (VP (VBZ buys) (NP (DT a) (NN gift)) (PP (IN with) (NP (NN gold))))))\n",
      "\n",
      "Additionally the other possible parse for the sentence 'She buys a gift with gold' is as mentioned in first question\n",
      "(S (NP (PRP She)) (VP (VBZ buys) (NP (DT a) (NN gift)) (PP (IN with) (NP (JJ gold))))).\n"
     ]
    }
   ],
   "source": [
    "import stanza\n",
    "\n",
    "# Download the English model\n",
    "stanza.download('en')\n",
    "\n",
    "# Load the English model\n",
    "nlp = stanza.Pipeline('en')\n",
    "\n",
    "# sentences\n",
    "sentence = [\"Lucy plays with friends\",\"This movie is careless and unfocused\",\"She buys a gift with gold\",]\n",
    "\n",
    "for i in sentence:\n",
    "# Process the sentence\n",
    "    doc = nlp(i)\n",
    "# Access the constituency parse tree\n",
    "    constituency_tree = doc.sentences[0].constituency\n",
    "# Print the parse tree\n",
    "    print(f\"The sentence is '{i}' and its parse tree is :\\n{constituency_tree}\")\n",
    "\n",
    "print(\"\\nAdditionally the other possible parse for the sentence 'She buys a gift with gold' is \\n(S (NP (PRP She)) (VP (VBZ buys) (NP (DT a) (NN gift)) (PP (IN with) (NP (JJ gold))))).\")"
   ]
  },
  {
   "cell_type": "code",
   "execution_count": null,
   "metadata": {},
   "outputs": [],
   "source": []
  }
 ],
 "metadata": {
  "kernelspec": {
   "display_name": "Python 3",
   "language": "python",
   "name": "python3"
  },
  "language_info": {
   "codemirror_mode": {
    "name": "ipython",
    "version": 3
   },
   "file_extension": ".py",
   "mimetype": "text/x-python",
   "name": "python",
   "nbconvert_exporter": "python",
   "pygments_lexer": "ipython3",
   "version": "3.8.8"
  }
 },
 "nbformat": 4,
 "nbformat_minor": 2
}
